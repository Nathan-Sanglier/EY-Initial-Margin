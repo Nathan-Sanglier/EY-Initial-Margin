{
 "cells": [
  {
   "cell_type": "markdown",
   "id": "ece0fa13",
   "metadata": {},
   "source": [
    "<CENTER>\n",
    "</br>\n",
    "<p><font size=\"5\">  M2MO & EY - Internship </font></p>\n",
    "<p><font size=\"5\">  Modelling Initial Margin and Counterparty Risk in Uncleared Derivatives </font></p>\n",
    "<p><font size=\"4\">  SANGLIER Nathan </font></p>\n",
    "<p><font size=\"3\"></br>May 2025</font></br></div>\n",
    "<p><span style=\"color:blue\">nathan.sanglier@etu.u-paris.fr</span>\n",
    "</p>\n",
    "</CENTER>"
   ]
  },
  {
   "cell_type": "markdown",
   "id": "55e75e4e",
   "metadata": {},
   "source": [
    "## <span id=\"section-0\" style=\"color:#00B8DE\"> 0 - Imports, Parameters, Functions </span>"
   ]
  },
  {
   "cell_type": "code",
   "execution_count": 1,
   "id": "f4112061",
   "metadata": {},
   "outputs": [],
   "source": [
    "import  utils\n",
    "import  pandas                                      as      pd\n",
    "import  numpy                                       as      np\n",
    "import  matplotlib.pyplot                           as      plt\n",
    "from    math                                        import  exp\n",
    "from    time                                        import  time\n",
    "from    tqdm                                        import  tqdm\n",
    "from    scipy.stats                                 import  norm, johnsonsu, johnsonsb, lognorm, kstest\n",
    "from    statsmodels.stats.diagnostic                import  normal_ad\n",
    "\n",
    "np.random.seed(0)\n",
    "plt.style.use('ggplot')"
   ]
  },
  {
   "cell_type": "code",
   "execution_count": 2,
   "id": "8913a4c3",
   "metadata": {},
   "outputs": [],
   "source": [
    "color_jlsmc     = 'blue'\n",
    "color_glsmc     = 'red'\n",
    "color_invalid   = 'purple'"
   ]
  },
  {
   "cell_type": "code",
   "execution_count": 3,
   "id": "63028002",
   "metadata": {},
   "outputs": [],
   "source": [
    "# 1/24 = 1 week. 1Y = 6M | 1M = 4W --> 1Y = 24W\n",
    "# 1/240 = 1/2 bday. 1W = 5 bdays\n",
    "r, S0, sigma, T, delta, dt = 0.05, 100, 0.3, 1, 1/24, 1/240\n",
    "\n",
    "time_grid   = np.arange(0, T, dt)\n",
    "N           = len(time_grid)-1\n",
    "M_train     = 200000\n",
    "M_test      = 10000\n",
    "ind_delta   = int(delta/dt)\n",
    "alpha       = 0.99\n",
    "K           = 95"
   ]
  },
  {
   "cell_type": "markdown",
   "id": "0b5c624c",
   "metadata": {},
   "source": [
    "## <span id=\"section-1\" style=\"color:#00B8DE\"> I - Risk Factors & Portfolio Paths </span>"
   ]
  },
  {
   "cell_type": "code",
   "execution_count": 4,
   "id": "f059260c",
   "metadata": {},
   "outputs": [],
   "source": [
    "gen_riskfactors             = lambda S0, M, N: utils.gen_riskfactors(S0, r, sigma, dt, M, N)\n",
    "gen_mtm                     = lambda S_paths, time_grid: utils.gen_mtm(S_paths, r, sigma, K, T, time_grid)\n",
    "get_mtmdiff_nmc             = lambda M_in, S, mtm, ind_tref: utils.get_mtmdiff_nmc(M_in, S, mtm, r, sigma, dt, K, T, ind_tref, ind_delta, time_grid)\n",
    "get_var_put                 = lambda S, mtm, ind_tref: utils.get_var_put(S, mtm, r, sigma, K, T, alpha, delta, ind_tref, time_grid)\n",
    "percentile_matching_johnson = lambda mtm, S_train, mtm_train, ind_tref, Nnmc, z: utils.percentile_matching_johnson(mtm, S_train, mtm_train, r, sigma, dt, K, T, ind_tref, ind_delta, time_grid, Nnmc, z)"
   ]
  },
  {
   "cell_type": "code",
   "execution_count": 5,
   "id": "c2bb986f",
   "metadata": {},
   "outputs": [],
   "source": [
    "S_paths_train   = gen_riskfactors(S0, M_train, N)\n",
    "mtm_paths_train = gen_mtm(S_paths_train, time_grid)\n",
    "S_paths_test    = gen_riskfactors(S0, M_test, N)\n",
    "mtm_paths_test  = gen_mtm(S_paths_test, time_grid)\n",
    "\n",
    "Nq          = 100\n",
    "Nqtail      = int(0.1*Nq)//2\n",
    "q_main      = np.arange(1, Nq) / Nq\n",
    "q_ltail     = np.linspace(0, 0.01, Nqtail+2)[1:-1]\n",
    "q_utail     = np.linspace(0.99, 1, Nqtail+2)[1:-1]\n",
    "q_all       = np.sort(np.unique(np.concatenate([q_ltail, q_main, q_utail])))"
   ]
  },
  {
   "cell_type": "markdown",
   "id": "ecd847e8",
   "metadata": {},
   "source": [
    "## <span id=\"section-6\" style=\"color:#00B8DE\"> VI - Forward IM Profile </span>"
   ]
  },
  {
   "cell_type": "code",
   "execution_count": 6,
   "id": "3c0a4887",
   "metadata": {},
   "outputs": [],
   "source": [
    "def get_initial_margin_jlsmc(setting_fit, setting_var, S_paths_train, mtm_paths_train, mtm_paths_pred_list):\n",
    "    start = time()\n",
    "    mtmdiff_paths_train = mtm_paths_train[:, ind_delta:] - mtm_paths_train[:, :-ind_delta]\n",
    "    #mtmdiff_paths_train   = utils.get_mtmdiff(mtm_paths_train, ind_delta)\n",
    "    imhat_full_list     = []\n",
    "    for i in range(len(mtm_paths_pred_list)):\n",
    "        # imhat_full_list.append(np.zeros((mtm_paths_pred_list[i].shape[0], mtm_paths_pred_list[i].shape[1]-1)))\n",
    "        imhat_full_list.append(np.zeros_like(mtm_paths_pred_list[i][:, ind_delta:]))\n",
    "    for t in tqdm(range(mtmdiff_paths_train.shape[1])):\n",
    "        S_train         = S_paths_train[:, t]\n",
    "        mtm_train       = mtm_paths_train[:, t]\n",
    "        mtm_supp        = np.quantile(mtm_train, q_all, method='inverted_cdf')\n",
    "\n",
    "        ######################################### Johnson Fitting #########################################\n",
    "        ############## Moments Matching ##############\n",
    "        if setting_fit['fitting'] == 'mm':\n",
    "            order_moms                                          = 4\n",
    "            y_train                                             = mtmdiff_paths_train[:, t:t+1]**np.arange(1, order_moms+1)\n",
    "            yhat_pred_list, _                                   = utils.regress_moms(mtm_train, y_train, [mtm_supp], setting_fit, order_moms)\n",
    "            murawhat_supp                                       = yhat_pred_list[0]\n",
    "            muhat_supp, maskhat_supp                            = utils.get_centred_moms(yhat_pred_list[0])\n",
    "            skewhat_supp, kurthat_supp, _, _, mask_tothat_supp  = utils.get_skewkurt(muhat_supp, maskhat_supp)\n",
    "            jparamshat_supp, jtypehat_supp, mask_hat_supp       = utils.moment_matching_johnson(murawhat_supp[:, 0], muhat_supp[:, 0], skewhat_supp, kurthat_supp, mask_tothat_supp, False)\n",
    "            jparamshat_supp, jtypehat_supp, mtm_supp            = jparamshat_supp[mask_hat_supp], jtypehat_supp[mask_hat_supp], mtm_supp[mask_hat_supp]\n",
    "        ############## Percentile Matching ##############\n",
    "        else:\n",
    "            jparamshat_supp, jtypehat_supp, _ = percentile_matching_johnson(mtm_supp, S_train, mtm_train, t, setting_fit['Nnmc'], setting_fit['z'])\n",
    "        ######################################### Value at Risk Calculation #########################################\n",
    "        quanthat_supp, mask_hat_supp_johnson    = utils.get_quantile_johnson(jparamshat_supp, jtypehat_supp, np.array([alpha]))\n",
    "        mtm_supp, quanthat_supp                 = mtm_supp[mask_hat_supp_johnson.reshape(-1)], quanthat_supp[mask_hat_supp_johnson]\n",
    "        mtm_list = []\n",
    "        for mtm_paths in mtm_paths_pred_list:\n",
    "            mtm_list.append(mtm_paths[:, t])\n",
    "        varhat_list = utils.get_var_jlsmc(mtm_supp, quanthat_supp, mtm_list, setting_var)\n",
    "        for i, mtm_paths in enumerate(mtm_paths_pred_list):\n",
    "            imhat_full_list[i][:, t] = np.maximum(varhat_list[i], 0)\n",
    "    end = time()\n",
    "    \n",
    "    return imhat_full_list, end-start\n",
    "\n",
    "\n",
    "def get_initial_margin_glsmc(setting_mm, mtm_paths_train, mtm_paths_pred_list):\n",
    "    start = time()\n",
    "    mtmdiff_paths_train = mtm_paths_train[:, ind_delta:] - mtm_paths_train[:, :-ind_delta]\n",
    "    # mtmdiff_paths_train   = utils.get_mtmdiff(mtm_paths_train, ind_delta)\n",
    "    imhat_full_list     = []\n",
    "    for i in range(len(mtm_paths_pred_list)):\n",
    "        # imhat_full_list.append(np.zeros((mtm_paths_pred_list[i].shape[0], mtm_paths_pred_list[i].shape[1]-1)))\n",
    "        imhat_full_list.append(np.zeros_like(mtm_paths_pred_list[i][:, ind_delta:]))\n",
    "    for t in tqdm(range(mtmdiff_paths_train.shape[1])):\n",
    "        mtm_train       = mtm_paths_train[:, t]\n",
    "        ######################################### Gaussian Fitting #########################################\n",
    "        order_moms  = 2\n",
    "        y_train     = mtmdiff_paths_train[:, t:t+1]**np.arange(1, order_moms+1)\n",
    "        mtm_list = []\n",
    "        for mtm_paths in mtm_paths_pred_list:\n",
    "            mtm_list.append(mtm_paths[:, t])\n",
    "        yhat_pred_list, _ = utils.regress_moms(mtm_train, y_train, mtm_list, setting_mm, order_moms)\n",
    "        for i, mtm_paths in enumerate(mtm_paths_pred_list):\n",
    "            murawhat                = yhat_pred_list[i]\n",
    "            muhat, maskhat          = utils.get_centred_moms(murawhat)\n",
    "            ######################################### Value at Risk Calculation #########################################\n",
    "            varhat                      = np.nan * np.ones_like(mtm_list[i])\n",
    "            varhat[maskhat[:, 0]]       = utils.get_quantile_normal(murawhat[maskhat[:, 0], 0], muhat[maskhat[:, 0], 0], alpha).reshape(-1)\n",
    "            imhat_full_list[i][:, t]    = np.maximum(varhat, 0)\n",
    "    end = time()\n",
    "    return imhat_full_list, end-start\n",
    "\n",
    "\n",
    "def get_initial_margin_put(S_paths_pred_list, mtm_paths_pred_list):\n",
    "    start = time()\n",
    "    im_full_list = []\n",
    "    for i, mtm_paths in enumerate(mtm_paths_pred_list):\n",
    "        mtmdiff_paths   = mtm_paths[:, ind_delta:] - mtm_paths[:, :-ind_delta]\n",
    "        # mtmdiff_paths   = utils.get_mtmdiff(mtm_paths, ind_delta)\n",
    "        var_full        = np.zeros_like(mtmdiff_paths)\n",
    "        for t in tqdm(range(mtmdiff_paths.shape[1])):\n",
    "            S               = S_paths_pred_list[i][:, t]\n",
    "            mtm             = mtm_paths[:, t]\n",
    "            var_full[:, t]  = get_var_put(S, mtm, t)\n",
    "        im_full_list.append(np.maximum(var_full, 0))\n",
    "    end = time()\n",
    "    return im_full_list, end-start\n",
    "\n",
    "\n",
    "def get_initial_margin_nmc(Nnmc, Mnmc, S_paths_pred_list, mtm_paths_pred_list):\n",
    "    start = time()\n",
    "    inds_nmc        = np.linspace(0, len(time_grid[:-ind_delta])-1, num=Nnmc, dtype=int)\n",
    "    im_full_list    = []\n",
    "    for i, mtm_paths in enumerate(mtm_paths_pred_list):\n",
    "        mtmdiff_paths   = mtm_paths[:, ind_delta:] - mtm_paths[:, :-ind_delta]\n",
    "        # mtmdiff_paths   = utils.get_mtmdiff(mtm_paths, ind_delta)\n",
    "        count_nmc       = 0\n",
    "        varhat_full_nmc = np.zeros((mtmdiff_paths.shape[0], len(inds_nmc)))\n",
    "        for t in tqdm(range(mtmdiff_paths.shape[1])):\n",
    "            S   = S_paths_pred_list[i][:, t]\n",
    "            mtm = mtm_paths[:, t]\n",
    "            if t==inds_nmc[count_nmc]:\n",
    "                if t==0:\n",
    "                    mtmdiff_nmc_ref = get_mtmdiff_nmc(Mnmc, S[0:1], mtm[0:1], t)\n",
    "                else:\n",
    "                    mtmdiff_nmc_ref             = get_mtmdiff_nmc(Mnmc, S, mtm, t)\n",
    "                varhat_full_nmc[:, count_nmc]   = np.quantile(mtmdiff_nmc_ref, alpha, method='inverted_cdf', axis=1)\n",
    "                count_nmc                       += 1\n",
    "        im_full_list.append(np.maximum(varhat_full_nmc, 0))\n",
    "    end = time()\n",
    "    return inds_nmc, im_full_list, end-start\n",
    "\n",
    "def add_zero_im(imhat):\n",
    "    return np.column_stack([imhat, np.zeros((imhat.shape[0], 1))])"
   ]
  },
  {
   "cell_type": "code",
   "execution_count": 7,
   "id": "ea1a67e7",
   "metadata": {},
   "outputs": [
    {
     "name": "stderr",
     "output_type": "stream",
     "text": [
      "100%|██████████| 230/230 [00:18<00:00, 12.41it/s]\n",
      "100%|██████████| 230/230 [00:00<00:00, 243.98it/s]\n"
     ]
    }
   ],
   "source": [
    "setting_fit_jlsmc_list = [\n",
    "    {'id': 0, 'fitting': 'mm', 'method': 'LR', 'ridge': 0, 'basis_type': 'laguerre', 'order': 2, 'regress_mean': True},\n",
    "    {'id': 1, 'fitting': 'mm', 'method': 'LR', 'ridge': 0, 'basis_type': 'laguerre', 'order': 4, 'regress_mean': True},\n",
    "    {'id': 2, 'fitting': 'mm', 'method': 'GLM', 'ridge': 0, 'basis_type': 'laguerre', 'order': 2, 'regress_mean': False},\n",
    "    {'id': 3, 'fitting': 'mm', 'method': 'GLM', 'ridge': 0, 'basis_type': 'laguerre', 'order': 4, 'regress_mean': False},\n",
    "    {'id': 4, 'fitting': 'pm', 'Nnmc': 1000, 'z': 1},\n",
    "    {'id': 5, 'fitting': 'pm', 'Nnmc': 10000, 'z': 1},\n",
    "    {'id': 6, 'fitting': 'pm', 'Nnmc': 1000, 'z': 0.524},\n",
    "    {'id': 7, 'fitting': 'pm', 'Nnmc': 10000, 'z': 0.524},\n",
    "]\n",
    "\n",
    "setting_var_jlsmc_list = [\n",
    "    {'id': 0, 'method': 'LR', 'ridge': 0, 'basis_type': 'laguerre', 'order': 2},\n",
    "    {'id': 1, 'method': 'LR', 'ridge': 0, 'basis_type': 'laguerre', 'order': 4},\n",
    "    {'id': 2, 'method': 'kNN', 'n_neighbors':1},\n",
    "    {'id': 3, 'method': 'kNN', 'n_neighbors':3}\n",
    "]\n",
    "\n",
    "setting_fit_glsmc_list = [\n",
    "    {'id': 0, 'method': 'LR', 'ridge': 0, 'basis_type': 'canonical', 'order': 2, 'regress_mean': False},\n",
    "    {'id': 1, 'method': 'LR', 'ridge': 0, 'basis_type': 'canonical', 'order': 2, 'regress_mean': True},\n",
    "    {'id': 2, 'method': 'GLM', 'ridge': 0, 'basis_type': 'canonical', 'order': 2, 'regress_mean': False},\n",
    "    {'id': 3, 'method': 'LR', 'ridge': 0, 'basis_type': 'canonical', 'order': 4, 'regress_mean': False},\n",
    "    {'id': 4, 'method': 'LR', 'ridge': 0, 'basis_type': 'canonical', 'order': 4, 'regress_mean': True},\n",
    "    {'id': 5, 'method': 'GLM', 'ridge': 0, 'basis_type': 'canonical', 'order': 4, 'regress_mean': False}\n",
    "]\n",
    "\n",
    "im_list, time_put = get_initial_margin_put([S_paths_train, S_paths_test], [mtm_paths_train, mtm_paths_test])\n",
    "im_train, im_test = im_list[0], im_list[1]\n",
    "#im_train, im_test = add_zero_im(im_train), add_zero_im(im_test)"
   ]
  },
  {
   "cell_type": "code",
   "execution_count": 8,
   "id": "b86077dc",
   "metadata": {},
   "outputs": [
    {
     "name": "stderr",
     "output_type": "stream",
     "text": [
      " 93%|█████████▎| 215/230 [07:47<00:24,  1.62s/it]"
     ]
    },
    {
     "name": "stdout",
     "output_type": "stream",
     "text": [
      "Warning: impossible region for support point n°0 - d = 0.0 (SB): m = 8.161197845819931e-22 ; n = 0.0\n"
     ]
    },
    {
     "name": "stderr",
     "output_type": "stream",
     "text": [
      " 94%|█████████▍| 216/230 [07:49<00:22,  1.58s/it]"
     ]
    },
    {
     "name": "stdout",
     "output_type": "stream",
     "text": [
      "Warning: impossible region for support point n°0 - d = 0.0 (SB): m = 1.51747082122513e-22 ; n = 0.0\n",
      "Warning: impossible region for support point n°1 - d = 0.0 (SB): m = 6.685760320362611e-19 ; n = 0.0\n"
     ]
    },
    {
     "name": "stderr",
     "output_type": "stream",
     "text": [
      " 94%|█████████▍| 217/230 [07:50<00:20,  1.57s/it]"
     ]
    },
    {
     "name": "stdout",
     "output_type": "stream",
     "text": [
      "Warning: impossible region for support point n°0 - d = 0.0 (SB): m = 1.1500999288769161e-24 ; n = 0.0\n",
      "Warning: impossible region for support point n°1 - d = 0.0 (SB): m = 3.84249467806595e-21 ; n = 0.0\n",
      "Warning: impossible region for support point n°2 - d = 0.0 (SB): m = 5.024246683284589e-19 ; n = 0.0\n"
     ]
    },
    {
     "name": "stderr",
     "output_type": "stream",
     "text": [
      " 95%|█████████▍| 218/230 [07:51<00:17,  1.47s/it]"
     ]
    },
    {
     "name": "stdout",
     "output_type": "stream",
     "text": [
      "Warning: impossible region for support point n°0 - d = 0.0 (SB): m = 1.2734953561560376e-26 ; n = 0.0\n",
      "Warning: impossible region for support point n°1 - d = 0.0 (SB): m = 1.461564667801715e-22 ; n = 0.0\n",
      "Warning: impossible region for support point n°2 - d = 0.0 (SB): m = 3.258902158399309e-20 ; n = 0.0\n",
      "Warning: impossible region for support point n°3 - d = 0.0 (SB): m = 6.449357930614526e-19 ; n = 0.0\n",
      "Warning: impossible region for support point n°4 - d = 0.0 (SB): m = 1.3414303595389469e-17 ; n = 0.0\n",
      "Warning: impossible region for support point n°5 - d = 0.0 (SB): m = 1.0096472736966411e-16 ; n = 0.0\n"
     ]
    },
    {
     "name": "stderr",
     "output_type": "stream",
     "text": [
      " 96%|█████████▌| 220/230 [07:55<00:16,  1.68s/it]"
     ]
    },
    {
     "name": "stdout",
     "output_type": "stream",
     "text": [
      "Warning: impossible region for support point n°0 - d = 0.0 (SB): m = 7.644790943625089e-29 ; n = 0.0\n",
      "Warning: impossible region for support point n°1 - d = 0.0 (SB): m = 8.792397708362069e-25 ; n = 0.0\n",
      "Warning: impossible region for support point n°2 - d = 0.0 (SB): m = 5.4675363359111045e-22 ; n = 0.0\n",
      "Warning: impossible region for support point n°3 - d = 0.0 (SB): m = 2.931663817079479e-20 ; n = 0.0\n",
      "Warning: impossible region for support point n°4 - d = 0.0 (SB): m = 9.979304068755753e-19 ; n = 0.0\n",
      "Warning: impossible region for support point n°5 - d = 0.0 (SB): m = 3.7308683953124287e-17 ; n = 0.0\n"
     ]
    },
    {
     "name": "stderr",
     "output_type": "stream",
     "text": [
      "c:\\Users\\natha\\Documents\\SCHOOL\\COURSES\\M2MO\\INTERNSHIP\\EY\\EY-Initial-Margin\\least_squares_mc\\utils.py:212: RuntimeWarning: invalid value encountered in divide\n",
      "  d = (m*n)/p**2\n"
     ]
    },
    {
     "name": "stdout",
     "output_type": "stream",
     "text": [
      "Warning: impossible region for support point n°1 - d = 0.0 (SB): m = 8.966599471493958e-27 ; n = 0.0\n",
      "Warning: impossible region for support point n°2 - d = 0.0 (SB): m = 2.2246972440794853e-24 ; n = 0.0\n",
      "Warning: impossible region for support point n°3 - d = 0.0 (SB): m = 2.1731045072269756e-22 ; n = 0.0\n",
      "Warning: impossible region for support point n°4 - d = 0.0 (SB): m = 5.247021383140214e-21 ; n = 0.0\n",
      "Warning: impossible region for support point n°5 - d = 0.0 (SB): m = 6.229638104072342e-19 ; n = 0.0\n",
      "Warning: impossible region for support point n°6 - d = 0.0 (SB): m = 1.3914489507377658e-14 ; n = 0.0\n"
     ]
    },
    {
     "name": "stderr",
     "output_type": "stream",
     "text": [
      " 96%|█████████▌| 221/230 [07:57<00:15,  1.70s/it]c:\\Users\\natha\\Documents\\SCHOOL\\COURSES\\M2MO\\INTERNSHIP\\EY\\EY-Initial-Margin\\least_squares_mc\\utils.py:212: RuntimeWarning: invalid value encountered in divide\n",
      "  d = (m*n)/p**2\n"
     ]
    },
    {
     "name": "stdout",
     "output_type": "stream",
     "text": [
      "Warning: impossible region for support point n°3 - d = 0.0 (SB): m = 6.3893671799237754e-24 ; n = 0.0\n",
      "Warning: impossible region for support point n°4 - d = 0.0 (SB): m = 2.8047363676394116e-22 ; n = 0.0\n",
      "Warning: impossible region for support point n°5 - d = 0.0 (SB): m = 2.950919430194445e-21 ; n = 0.0\n",
      "Warning: impossible region for support point n°6 - d = 0.0 (SB): m = 5.990218687042515e-16 ; n = 0.0\n",
      "Warning: impossible region for support point n°7 - d = 0.0 (SB): m = 1.93757618272726e-13 ; n = 0.0\n"
     ]
    },
    {
     "name": "stderr",
     "output_type": "stream",
     "text": [
      " 97%|█████████▋| 222/230 [07:59<00:13,  1.73s/it]c:\\Users\\natha\\Documents\\SCHOOL\\COURSES\\M2MO\\INTERNSHIP\\EY\\EY-Initial-Margin\\least_squares_mc\\utils.py:212: RuntimeWarning: invalid value encountered in divide\n",
      "  d = (m*n)/p**2\n",
      " 97%|█████████▋| 223/230 [08:00<00:11,  1.66s/it]"
     ]
    },
    {
     "name": "stdout",
     "output_type": "stream",
     "text": [
      "Warning: impossible region for support point n°5 - d = 0.0 (SB): m = 1.7470416136915017e-24 ; n = 0.0\n",
      "Warning: impossible region for support point n°6 - d = 0.0 (SB): m = 4.44260054085374e-18 ; n = 0.0\n",
      "Warning: impossible region for support point n°7 - d = 0.0 (SB): m = 3.080012734087731e-14 ; n = 0.0\n",
      "Warning: impossible region for support point n°8 - d = 0.0 (SB): m = 1.6551316155482665e-12 ; n = 0.0\n",
      "Warning: impossible region for support point n°9 - d = 0.0 (SB): m = 4.320960943434473e-11 ; n = 0.0\n"
     ]
    },
    {
     "name": "stderr",
     "output_type": "stream",
     "text": [
      "c:\\Users\\natha\\Documents\\SCHOOL\\COURSES\\M2MO\\INTERNSHIP\\EY\\EY-Initial-Margin\\least_squares_mc\\utils.py:212: RuntimeWarning: invalid value encountered in divide\n",
      "  d = (m*n)/p**2\n"
     ]
    },
    {
     "name": "stdout",
     "output_type": "stream",
     "text": [
      "Warning: impossible region for support point n°6 - d = 0.0 (SB): m = 1.905661174276411e-20 ; n = 0.0\n",
      "Warning: impossible region for support point n°7 - d = 0.0 (SB): m = 3.7503800940849576e-16 ; n = 0.0\n",
      "Warning: impossible region for support point n°8 - d = 0.0 (SB): m = 6.217097115122725e-14 ; n = 0.0\n",
      "Warning: impossible region for support point n°9 - d = 0.0 (SB): m = 1.35786539538686e-12 ; n = 0.0\n",
      "Warning: impossible region for support point n°10 - d = 0.0 (SB): m = 1.2688644568124514e-10 ; n = 0.0\n",
      "Warning: impossible region for support point n°11 - d = 0.0 (SB): m = 7.611256831500345e-09 ; n = 0.0\n"
     ]
    },
    {
     "name": "stderr",
     "output_type": "stream",
     "text": [
      " 97%|█████████▋| 224/230 [08:02<00:09,  1.62s/it]c:\\Users\\natha\\Documents\\SCHOOL\\COURSES\\M2MO\\INTERNSHIP\\EY\\EY-Initial-Margin\\least_squares_mc\\utils.py:212: RuntimeWarning: invalid value encountered in divide\n",
      "  d = (m*n)/p**2\n"
     ]
    },
    {
     "name": "stdout",
     "output_type": "stream",
     "text": [
      "Warning: impossible region for support point n°7 - d = 0.0 (SB): m = 1.5425006961523593e-19 ; n = 0.0\n",
      "Warning: impossible region for support point n°8 - d = 0.0 (SB): m = 6.1266238194701e-16 ; n = 0.0\n",
      "Warning: impossible region for support point n°9 - d = 0.0 (SB): m = 2.7470184193528255e-14 ; n = 0.0\n",
      "Warning: impossible region for support point n°10 - d = 0.0 (SB): m = 1.2513468409066684e-11 ; n = 0.0\n",
      "Warning: impossible region for support point n°11 - d = 0.0 (SB): m = 1.4752613265686983e-10 ; n = 0.0\n",
      "Warning: impossible region for support point n°12 - d = 0.0 (SB): m = 1.0289265299790712e-09 ; n = 0.0\n",
      "Warning: impossible region for support point n°13 - d = 0.0 (SB): m = 1.3430498023994144e-08 ; n = 0.0\n",
      "Warning: impossible region for support point n°14 - d = 0.0 (SB): m = 7.065425368225252e-08 ; n = 0.0\n",
      "Warning: impossible region for support point n°15 - d = 0.0 (SB): m = 5.52245808409864e-07 ; n = 0.0\n"
     ]
    },
    {
     "name": "stderr",
     "output_type": "stream",
     "text": [
      " 98%|█████████▊| 225/230 [08:03<00:08,  1.69s/it]c:\\Users\\natha\\Documents\\SCHOOL\\COURSES\\M2MO\\INTERNSHIP\\EY\\EY-Initial-Margin\\least_squares_mc\\utils.py:212: RuntimeWarning: invalid value encountered in divide\n",
      "  d = (m*n)/p**2\n"
     ]
    },
    {
     "name": "stdout",
     "output_type": "stream",
     "text": [
      "Warning: impossible region for support point n°9 - d = 0.0 (SB): m = 2.654150178386635e-16 ; n = 0.0\n",
      "Warning: impossible region for support point n°10 - d = 0.0 (SB): m = 5.002656267251269e-13 ; n = 0.0\n",
      "Warning: impossible region for support point n°11 - d = 0.0 (SB): m = 1.0967856085729198e-12 ; n = 0.0\n",
      "Warning: impossible region for support point n°12 - d = 0.0 (SB): m = 2.3048642065998536e-11 ; n = 0.0\n",
      "Warning: impossible region for support point n°13 - d = 0.0 (SB): m = 2.334886665763831e-09 ; n = 0.0\n",
      "Warning: impossible region for support point n°14 - d = 0.0 (SB): m = 3.775181410586267e-09 ; n = 0.0\n",
      "Warning: impossible region for support point n°15 - d = 0.0 (SB): m = 5.708110444707413e-08 ; n = 0.0\n",
      "Warning: impossible region for support point n°16 - d = 0.0 (SB): m = 2.5978733689280136e-07 ; n = 0.0\n",
      "Warning: impossible region for support point n°17 - d = 0.0 (SB): m = 6.739770731774094e-07 ; n = 0.0\n",
      "Warning: impossible region for support point n°18 - d = 0.0 (SB): m = 1.5231300588466107e-05 ; n = 0.0\n"
     ]
    },
    {
     "name": "stderr",
     "output_type": "stream",
     "text": [
      " 98%|█████████▊| 226/230 [08:05<00:06,  1.68s/it]c:\\Users\\natha\\Documents\\SCHOOL\\COURSES\\M2MO\\INTERNSHIP\\EY\\EY-Initial-Margin\\least_squares_mc\\utils.py:212: RuntimeWarning: invalid value encountered in divide\n",
      "  d = (m*n)/p**2\n",
      " 99%|█████████▊| 227/230 [08:07<00:04,  1.61s/it]"
     ]
    },
    {
     "name": "stdout",
     "output_type": "stream",
     "text": [
      "Warning: impossible region for support point n°12 - d = 0.0 (SB): m = 4.455595564956164e-13 ; n = 0.0\n",
      "Warning: impossible region for support point n°13 - d = 0.0 (SB): m = 9.619134979696787e-12 ; n = 0.0\n",
      "Warning: impossible region for support point n°14 - d = 0.0 (SB): m = 1.6992192093601157e-10 ; n = 0.0\n",
      "Warning: impossible region for support point n°15 - d = 0.0 (SB): m = 5.058474379248358e-09 ; n = 0.0\n",
      "Warning: impossible region for support point n°16 - d = 0.0 (SB): m = 1.1981252109446041e-08 ; n = 0.0\n",
      "Warning: impossible region for support point n°17 - d = 0.0 (SB): m = 3.223547369505547e-08 ; n = 0.0\n",
      "Warning: impossible region for support point n°18 - d = 0.0 (SB): m = 1.1823526216255561e-06 ; n = 0.0\n",
      "Warning: impossible region for support point n°19 - d = 0.0 (SB): m = 6.0669294315399225e-06 ; n = 0.0\n",
      "Warning: impossible region for support point n°20 - d = 0.0 (SB): m = 1.3446860601660603e-05 ; n = 0.0\n",
      "Warning: impossible region for support point n°21 - d = 0.0 (SB): m = 7.160370472833114e-05 ; n = 0.0\n",
      "Warning: impossible region for support point n°22 - d = 0.0 (SB): m = 0.00011291404747083809 ; n = 0.0\n",
      "Warning: impossible region for support point n°23 - d = 0.0 (SB): m = 0.0004992149407085357 ; n = 0.0\n",
      "Warning: impossible region for support point n°24 - d = 0.0 (SB): m = 0.00043724752693173255 ; n = 0.0\n"
     ]
    },
    {
     "name": "stderr",
     "output_type": "stream",
     "text": [
      "c:\\Users\\natha\\Documents\\SCHOOL\\COURSES\\M2MO\\INTERNSHIP\\EY\\EY-Initial-Margin\\least_squares_mc\\utils.py:212: RuntimeWarning: invalid value encountered in divide\n",
      "  d = (m*n)/p**2\n"
     ]
    },
    {
     "name": "stdout",
     "output_type": "stream",
     "text": [
      "Warning: impossible region for support point n°16 - d = 0.0 (SB): m = 3.904736731863392e-11 ; n = 0.0\n",
      "Warning: impossible region for support point n°17 - d = 0.0 (SB): m = 3.327237076364315e-09 ; n = 0.0\n",
      "Warning: impossible region for support point n°18 - d = 0.0 (SB): m = 3.068294056402937e-09 ; n = 0.0\n",
      "Warning: impossible region for support point n°19 - d = 0.0 (SB): m = 1.3212134646996848e-07 ; n = 0.0\n",
      "Warning: impossible region for support point n°20 - d = 0.0 (SB): m = 2.3086925506646747e-06 ; n = 0.0\n",
      "Warning: impossible region for support point n°21 - d = 0.0 (SB): m = 6.613890828096259e-06 ; n = 0.0\n",
      "Warning: impossible region for support point n°22 - d = 0.0 (SB): m = 6.701889373819944e-06 ; n = 0.0\n",
      "Warning: impossible region for support point n°23 - d = 0.0 (SB): m = 7.663760434846055e-05 ; n = 0.0\n",
      "Warning: impossible region for support point n°24 - d = 0.0 (SB): m = 0.00012358891145649342 ; n = 0.0\n",
      "Warning: impossible region for support point n°25 - d = 0.0 (SB): m = 0.0008302180766714737 ; n = 0.0\n",
      "Warning: impossible region for support point n°26 - d = 0.0 (SB): m = 0.0019545177042809064 ; n = 0.0\n",
      "Warning: impossible region for support point n°27 - d = 0.0 (SB): m = 0.0036637462228008184 ; n = 0.0\n",
      "Warning: impossible region for support point n°28 - d = 0.0 (SB): m = 0.00966341660698302 ; n = 0.0\n",
      "Warning: impossible region for support point n°29 - d = 0.0 (SB): m = 0.019637994620779795 ; n = 0.0\n",
      "Warning: impossible region for support point n°30 - d = 0.0 (SB): m = 0.05660958483406518 ; n = 0.0\n"
     ]
    },
    {
     "name": "stderr",
     "output_type": "stream",
     "text": [
      " 99%|█████████▉| 228/230 [08:08<00:03,  1.65s/it]c:\\Users\\natha\\Documents\\SCHOOL\\COURSES\\M2MO\\INTERNSHIP\\EY\\EY-Initial-Margin\\least_squares_mc\\utils.py:212: RuntimeWarning: invalid value encountered in divide\n",
      "  d = (m*n)/p**2\n"
     ]
    },
    {
     "name": "stdout",
     "output_type": "stream",
     "text": [
      "Warning: impossible region for support point n°22 - d = 0.0 (SB): m = 4.065926809015325e-08 ; n = 0.0\n",
      "Warning: impossible region for support point n°23 - d = 0.0 (SB): m = 3.803771609893395e-07 ; n = 0.0\n",
      "Warning: impossible region for support point n°24 - d = 0.0 (SB): m = 2.132757475002243e-06 ; n = 0.0\n",
      "Warning: impossible region for support point n°25 - d = 0.0 (SB): m = 2.385562238827019e-05 ; n = 0.0\n",
      "Warning: impossible region for support point n°26 - d = 0.0 (SB): m = 9.843265419201249e-05 ; n = 0.0\n",
      "Warning: impossible region for support point n°27 - d = 0.0 (SB): m = 0.00024723161092939056 ; n = 0.0\n",
      "Warning: impossible region for support point n°28 - d = 0.0 (SB): m = 0.0009622528297988332 ; n = 0.0\n",
      "Warning: impossible region for support point n°29 - d = 0.0 (SB): m = 0.0030078462193142298 ; n = 0.0\n",
      "Warning: impossible region for support point n°30 - d = 0.0 (SB): m = 0.013470037295335932 ; n = 0.0\n",
      "Warning: impossible region for support point n°31 - d = 0.0 (SB): m = 0.021517528846122534 ; n = 0.0\n",
      "Warning: impossible region for support point n°32 - d = 0.0 (SB): m = 0.11439931640096575 ; n = 0.0\n",
      "Warning: impossible region for support point n°33 - d = 0.0 (SB): m = 0.09602910581867061 ; n = 0.0\n",
      "Warning: impossible region for support point n°34 - d = 0.0 (SB): m = 0.2183365673069566 ; n = 0.0\n",
      "Warning: impossible region for support point n°35 - d = 0.0 (SB): m = 0.40362107244296863 ; n = 0.0\n",
      "Warning: impossible region for support point n°36 - d = 0.0 (SB): m = 0.580188630820471 ; n = 0.0\n",
      "Warning: impossible region for support point n°37 - d = 0.0 (SB): m = 1.1710341097613306 ; n = 0.0\n",
      "Warning: impossible region for support point n°38 - d = 0.0 (SB): m = 1.1399728823157294 ; n = 0.0\n"
     ]
    },
    {
     "name": "stderr",
     "output_type": "stream",
     "text": [
      "100%|█████████▉| 229/230 [08:10<00:01,  1.65s/it]c:\\Users\\natha\\Documents\\SCHOOL\\COURSES\\M2MO\\INTERNSHIP\\EY\\EY-Initial-Margin\\least_squares_mc\\utils.py:212: RuntimeWarning: invalid value encountered in divide\n",
      "  d = (m*n)/p**2\n"
     ]
    },
    {
     "name": "stdout",
     "output_type": "stream",
     "text": [
      "Warning: impossible region for support point n°31 - d = 0.0 (SB): m = 0.001527016670198611 ; n = 0.0\n",
      "Warning: impossible region for support point n°32 - d = 0.0 (SB): m = 0.006626087627679799 ; n = 0.0\n",
      "Warning: impossible region for support point n°33 - d = 0.0 (SB): m = 0.006968126617922844 ; n = 0.0\n",
      "Warning: impossible region for support point n°34 - d = 0.0 (SB): m = 0.11743691950434124 ; n = 0.0\n",
      "Warning: impossible region for support point n°35 - d = 0.0 (SB): m = 0.19242229916553677 ; n = 0.0\n",
      "Warning: impossible region for support point n°36 - d = 0.0 (SB): m = 0.2837841660502705 ; n = 0.0\n",
      "Warning: impossible region for support point n°37 - d = 0.0 (SB): m = 0.642696998536142 ; n = 0.0\n",
      "Warning: impossible region for support point n°38 - d = 0.0 (SB): m = 0.6881982037050137 ; n = 0.0\n",
      "Warning: impossible region for support point n°39 - d = 0.0 (SB): m = 0.9354871365375904 ; n = 0.0\n",
      "Warning: impossible region for support point n°40 - d = 0.0 (SB): m = 2.182294464466533 ; n = 0.0\n",
      "Warning: impossible region for support point n°41 - d = 0.0 (SB): m = 2.183001451754307 ; n = 0.0\n",
      "Warning: impossible region for support point n°42 - d = 0.0 (SB): m = 3.3687533798971994 ; n = 0.0\n",
      "Warning: impossible region for support point n°43 - d = 0.0 (SB): m = 4.170037536216244 ; n = 0.0\n",
      "Warning: impossible region for support point n°44 - d = 0.0 (SB): m = 5.070196724429413 ; n = 0.0\n",
      "Warning: impossible region for support point n°45 - d = 0.0 (SB): m = 5.814172463327739 ; n = 0.0\n",
      "Warning: impossible region for support point n°46 - d = 0.0 (SB): m = 5.665127499881591 ; n = 0.0\n",
      "Warning: impossible region for support point n°47 - d = 0.0 (SB): m = 6.368093305755586 ; n = 0.0\n",
      "Warning: impossible region for support point n°48 - d = 0.0 (SB): m = 7.441960420891962 ; n = 0.0\n"
     ]
    },
    {
     "name": "stderr",
     "output_type": "stream",
     "text": [
      "100%|██████████| 230/230 [08:12<00:00,  2.14s/it]\n",
      "100%|██████████| 230/230 [00:39<00:00,  5.87it/s]\n"
     ]
    }
   ],
   "source": [
    "setting_fit_jlsmc = setting_fit_jlsmc_list[5]\n",
    "setting_var_jlsmc = setting_var_jlsmc_list[3]\n",
    "setting_fit_glsmc = setting_fit_glsmc_list[0]\n",
    "\n",
    "# Nnmc, Mnmc = 2, 100000 # 100000 may be the minimum for unbiased estimates\n",
    "imhat_jlsmc_list, timehat_jlsmc     = get_initial_margin_jlsmc(setting_fit_jlsmc, setting_var_jlsmc, S_paths_train, mtm_paths_train, [mtm_paths_train, mtm_paths_test])\n",
    "imhat_train_jlsmc, imhat_test_jlsmc = imhat_jlsmc_list[0], imhat_jlsmc_list[1]\n",
    "#imhat_train_jlsmc, imhat_test_jlsmc = add_zero_im(imhat_train_jlsmc), add_zero_im(imhat_test_jlsmc)\n",
    "imhat_glsmc_list, timehat_glsmc     = get_initial_margin_glsmc(setting_fit_glsmc, mtm_paths_train, [mtm_paths_train, mtm_paths_test])\n",
    "imhat_train_glsmc, imhat_test_glsmc = imhat_glsmc_list[0], imhat_glsmc_list[1]\n",
    "#imhat_train_glsmc, imhat_test_glsmc = add_zero_im(imhat_train_glsmc), add_zero_im(imhat_test_glsmc)\n",
    "# inds_nmc, im_nmc_list, time_nmc     = get_initial_margin_nmc(Nnmc, Mnmc, [S_paths_train, S_paths_test], [mtm_paths_train, mtm_paths_test])\n",
    "# im_train_nmc, im_test_nmc           = im_nmc_list[0], im_nmc_list[1]"
   ]
  },
  {
   "cell_type": "code",
   "execution_count": 9,
   "id": "1b29aa93",
   "metadata": {},
   "outputs": [
    {
     "data": {
      "image/png": "[encoded data removed]",
      "text/plain": [
       "<Figure size 1200x400 with 2 Axes>"
      ]
     },
     "metadata": {},
     "output_type": "display_data"
    }
   ],
   "source": [
    "fig, axs = plt.subplots(1, 2, figsize=(12, 4))\n",
    "axs[0].plot(time_grid[:-ind_delta], np.quantile(imhat_train_jlsmc, 0.975, axis=0), linestyle='--', color=color_jlsmc, label='95% CI - JLSMC', zorder=4)\n",
    "#axs[0].plot(time_grid, np.nanquantile(imhat_train_glsmc, 0.975, axis=0), linestyle='--', color=color_glsmc, label='95% CI - GLSMC', zorder=4)\n",
    "#axs[0].scatter(time_grid[:-1][inds_nmc], np.quantile(im_train_nmc, 0.975, axis=0), color='black', s=30, facecolors='none', label='95% CI - NMC', clip_on=False, zorder=1)\n",
    "axs[0].plot(time_grid[:-ind_delta], np.quantile(im_train, 0.975, axis=0), linestyle='--', color='black', label='95% CI - theo', zorder=2)\n",
    "axs[0].plot(time_grid[:-ind_delta], np.mean(imhat_train_jlsmc, axis=0), color=color_jlsmc, label='DIM - JLSMC', zorder=4)\n",
    "#axs[0].plot(time_grid, np.nanmean(imhat_train_glsmc, axis=0), color=color_glsmc, label='DIM - GLSMC', zorder=4)\n",
    "#axs[0].scatter(time_grid[:-1][inds_nmc], np.mean(im_train_nmc, axis=0), color='black', s=30, facecolors='none', label='DIM - NMC', clip_on=False, zorder=1)\n",
    "axs[0].plot(time_grid[:-ind_delta], np.mean(im_train, axis=0), color='black', label='DIM - theo', zorder=2)\n",
    "axs[0].plot(time_grid[:-ind_delta], np.quantile(imhat_train_jlsmc, 0.025, axis=0), linestyle='--', color=color_jlsmc, zorder=4)\n",
    "#axs[0].plot(time_grid, np.nanquantile(imhat_train_glsmc, 0.025, axis=0), linestyle='--', color=color_glsmc, zorder=4)\n",
    "#axs[0].scatter(time_grid[inds_nmc], np.quantile(im_train_nmc, 0.025, axis=0), color='black', s=30, facecolors='none', clip_on=False, zorder=1)\n",
    "axs[0].plot(time_grid[:-ind_delta], np.quantile(im_train, 0.025, axis=0), linestyle='--', color='black', zorder=2)\n",
    "\n",
    "axs[0].set_xlabel('$t$')\n",
    "axs[0].set_ylabel('$\\\\text{IM}_t$')\n",
    "axs[0].set_xlim(np.min(time_grid[:-ind_delta]), np.max(time_grid[:-1])+dt)\n",
    "axs[0].set_title('training set')\n",
    "\n",
    "axs[1].plot(time_grid[:-ind_delta], np.quantile(imhat_test_jlsmc, 0.975, axis=0), linestyle='--', color=color_jlsmc, label='95% CI - JLSMC', zorder=4)\n",
    "#axs[1].plot(time_grid, np.nanquantile(imhat_test_glsmc, 0.975, axis=0), linestyle='--', color=color_glsmc, label='95% CI - GLSMC', zorder=4)\n",
    "# axs[1].scatter(time_grid[:-1][inds_nmc], np.quantile(im_test_nmc, 0.975, axis=0), color='black', s=30, facecolors='none', label='95% CI - NMC', clip_on=False, zorder=1)\n",
    "axs[1].plot(time_grid[:-ind_delta], np.quantile(im_test, 0.975, axis=0), linestyle='--', color='black', label='95% CI - theo', zorder=2)\n",
    "axs[1].plot(time_grid[:-ind_delta], np.mean(imhat_test_jlsmc, axis=0), color=color_jlsmc, label='DIM - JLSMC', zorder=4)\n",
    "#axs[1].plot(time_grid, np.nanmean(imhat_test_glsmc, axis=0), color=color_glsmc, label='DIM - GLSMC', zorder=4)\n",
    "# axs[1].scatter(time_grid[:-1][inds_nmc], np.mean(im_test_nmc, axis=0), color='black', s=30, facecolors='none', label='DIM - NMC', clip_on=False, zorder=1)\n",
    "axs[1].plot(time_grid[:-ind_delta], np.mean(im_test, axis=0), color='black', label='DIM - theo', zorder=2)\n",
    "axs[1].plot(time_grid[:-ind_delta], np.quantile(imhat_test_jlsmc, 0.025, axis=0), linestyle='--', color=color_jlsmc, zorder=4)\n",
    "#axs[1].plot(time_grid, np.nanquantile(imhat_test_glsmc, 0.025, axis=0), linestyle='--', color=color_glsmc, zorder=4)\n",
    "# axs[1].scatter(time_grid[:-1][inds_nmc], np.quantile(im_test_nmc, 0.025, axis=0), color='black', s=30, facecolors='none', clip_on=False, zorder=1)\n",
    "axs[1].plot(time_grid[:-ind_delta], np.quantile(im_test, 0.025, axis=0), linestyle='--', color='black', zorder=2)\n",
    "\n",
    "axs[1].set_xlabel('$t$')\n",
    "axs[1].set_ylabel('$\\\\text{IM}_t$')\n",
    "axs[1].set_xlim(np.min(time_grid[:-ind_delta]), np.max(time_grid[:-ind_delta])+dt)\n",
    "axs[1].set_title('testing set')\n",
    "\n",
    "handles, labels = axs[0].get_legend_handles_labels()\n",
    "fig.legend(handles, labels, loc='lower center', ncol=2, bbox_to_anchor=(0.5, -0.2))\n",
    "plt.tight_layout()\n",
    "plt.show()"
   ]
  },
  {
   "cell_type": "code",
   "execution_count": 10,
   "id": "bcbabc80",
   "metadata": {},
   "outputs": [
    {
     "data": {
      "text/plain": [
       "'\\nlist_total_time_jlsmc = []\\nlist_mse_train_jlsmc  = []\\nlist_mse_test_jlsmc   = []\\nlist_index_jlsmc      = []\\nfor setting_fit in setting_fit_jlsmc_list:\\n    for setting_var in setting_var_jlsmc_list:\\n        list_index_jlsmc.append(f\\'{setting_fit[\"id\"]}_{setting_var[\"id\"]}\\')\\n        imhat_list, timehat     = get_initial_margin_jlsmc(setting_fit, setting_var, S_paths_train, mtm_paths_train, [mtm_paths_train, mtm_paths_test])\\n        list_total_time_jlsmc.append(timehat)\\n        imhat_train, imhat_test = imhat_list[0], imhat_list[1]\\n        list_mse_train_jlsmc.append(np.mean((imhat_train - im_train)**2))\\n        list_mse_test_jlsmc.append(np.mean((imhat_test - im_test)**2))\\n\\n        fig, axs = plt.subplots(1, 2, figsize=(12, 4))\\n        axs[0].plot(time_grid[:-ind_delta], np.quantile(imhat_train, 0.975, axis=0), linestyle=\\'--\\', color=color_jlsmc, label=\\'95% CI - JLSMC\\', zorder=4)\\n        axs[0].plot(time_grid[:-ind_delta], np.quantile(im_train, 0.975, axis=0), linestyle=\\'--\\', color=\\'black\\', label=\\'95% CI - theo\\', zorder=2)\\n        axs[0].plot(time_grid[:-ind_delta], np.mean(imhat_train, axis=0), color=color_jlsmc, label=\\'DIM - JLSMC\\', zorder=4)\\n        axs[0].plot(time_grid[:-ind_delta], np.mean(im_train, axis=0), color=\\'black\\', label=\\'DIM - theo\\', zorder=2)\\n        axs[0].plot(time_grid[:-ind_delta], np.quantile(imhat_train, 0.025, axis=0), linestyle=\\'--\\', color=color_jlsmc, zorder=4)\\n        axs[0].plot(time_grid[:-ind_delta], np.quantile(im_train, 0.025, axis=0), linestyle=\\'--\\', color=\\'black\\', zorder=2)\\n\\n        axs[0].set_xlabel(\\'$t$\\')\\n        axs[0].set_ylabel(\\'$\\\\text{IM}_t$\\')\\n        axs[0].set_xlim(np.min(time_grid[:-ind_delta]), np.max(time_grid[:-ind_delta])+dt)\\n        axs[0].set_title(\\'training set\\')\\n\\n        axs[1].plot(time_grid[:-ind_delta], np.quantile(imhat_test, 0.975, axis=0), linestyle=\\'--\\', color=color_jlsmc, label=\\'95% CI - JLSMC\\', zorder=4)\\n        axs[1].plot(time_grid[:-ind_delta], np.quantile(im_test, 0.975, axis=0), linestyle=\\'--\\', color=\\'black\\', label=\\'95% CI - theo\\', zorder=2)\\n        axs[1].plot(time_grid[:-ind_delta], np.mean(imhat_test, axis=0), color=color_jlsmc, label=\\'DIM - JLSMC\\', zorder=4)\\n        axs[1].plot(time_grid[:-ind_delta], np.mean(im_test, axis=0), color=\\'black\\', label=\\'DIM - theo\\', zorder=2)\\n        axs[1].plot(time_grid[:-ind_delta], np.quantile(imhat_test, 0.025, axis=0), linestyle=\\'--\\', color=color_jlsmc, zorder=4)\\n        axs[1].plot(time_grid[:-ind_delta], np.quantile(im_test, 0.025, axis=0), linestyle=\\'--\\', color=\\'black\\', zorder=2)\\n\\n        axs[1].set_xlabel(\\'$t$\\')\\n        axs[1].set_ylabel(\\'$\\\\text{IM}_t$\\')\\n        axs[1].set_xlim(np.min(time_grid[:-ind_delta]), np.max(time_grid[:-ind_delta])+dt)\\n        axs[1].set_title(\\'testing set\\')\\n\\n        handles, labels = axs[0].get_legend_handles_labels()\\n        fig.legend(handles, labels, loc=\\'lower center\\', ncol=2, bbox_to_anchor=(0.5, -0.2))\\n        plt.tight_layout()\\n        plt.savefig(f\\'figures/im_profile/jlsmc_{setting_fit[\"id\"]}_{setting_var[\"id\"]}.png\\', dpi=300, bbox_inches=\\'tight\\')\\n\\n\\ndf_jlsmc = pd.DataFrame({\\n    \\'total time\\': list_total_time_jlsmc,\\n    \\'mse train\\': list_mse_train_jlsmc,\\n    \\'mse test\\': list_mse_test_jlsmc\\n}, index=list_index_jlsmc)\\n\\ndf_jlsmc.to_csv(\\'results/im_jlsmc.csv\\')\\n'"
      ]
     },
     "execution_count": 10,
     "metadata": {},
     "output_type": "execute_result"
    }
   ],
   "source": [
    "'''\n",
    "list_total_time_jlsmc = []\n",
    "list_mse_train_jlsmc  = []\n",
    "list_mse_test_jlsmc   = []\n",
    "list_index_jlsmc      = []\n",
    "for setting_fit in setting_fit_jlsmc_list:\n",
    "    for setting_var in setting_var_jlsmc_list:\n",
    "        list_index_jlsmc.append(f'{setting_fit[\"id\"]}_{setting_var[\"id\"]}')\n",
    "        imhat_list, timehat     = get_initial_margin_jlsmc(setting_fit, setting_var, S_paths_train, mtm_paths_train, [mtm_paths_train, mtm_paths_test])\n",
    "        list_total_time_jlsmc.append(timehat)\n",
    "        imhat_train, imhat_test = imhat_list[0], imhat_list[1]\n",
    "        list_mse_train_jlsmc.append(np.mean((imhat_train - im_train)**2))\n",
    "        list_mse_test_jlsmc.append(np.mean((imhat_test - im_test)**2))\n",
    "\n",
    "        fig, axs = plt.subplots(1, 2, figsize=(12, 4))\n",
    "        axs[0].plot(time_grid[:-ind_delta], np.quantile(imhat_train, 0.975, axis=0), linestyle='--', color=color_jlsmc, label='95% CI - JLSMC', zorder=4)\n",
    "        axs[0].plot(time_grid[:-ind_delta], np.quantile(im_train, 0.975, axis=0), linestyle='--', color='black', label='95% CI - theo', zorder=2)\n",
    "        axs[0].plot(time_grid[:-ind_delta], np.mean(imhat_train, axis=0), color=color_jlsmc, label='DIM - JLSMC', zorder=4)\n",
    "        axs[0].plot(time_grid[:-ind_delta], np.mean(im_train, axis=0), color='black', label='DIM - theo', zorder=2)\n",
    "        axs[0].plot(time_grid[:-ind_delta], np.quantile(imhat_train, 0.025, axis=0), linestyle='--', color=color_jlsmc, zorder=4)\n",
    "        axs[0].plot(time_grid[:-ind_delta], np.quantile(im_train, 0.025, axis=0), linestyle='--', color='black', zorder=2)\n",
    "\n",
    "        axs[0].set_xlabel('$t$')\n",
    "        axs[0].set_ylabel('$\\\\text{IM}_t$')\n",
    "        axs[0].set_xlim(np.min(time_grid[:-ind_delta]), np.max(time_grid[:-ind_delta])+dt)\n",
    "        axs[0].set_title('training set')\n",
    "\n",
    "        axs[1].plot(time_grid[:-ind_delta], np.quantile(imhat_test, 0.975, axis=0), linestyle='--', color=color_jlsmc, label='95% CI - JLSMC', zorder=4)\n",
    "        axs[1].plot(time_grid[:-ind_delta], np.quantile(im_test, 0.975, axis=0), linestyle='--', color='black', label='95% CI - theo', zorder=2)\n",
    "        axs[1].plot(time_grid[:-ind_delta], np.mean(imhat_test, axis=0), color=color_jlsmc, label='DIM - JLSMC', zorder=4)\n",
    "        axs[1].plot(time_grid[:-ind_delta], np.mean(im_test, axis=0), color='black', label='DIM - theo', zorder=2)\n",
    "        axs[1].plot(time_grid[:-ind_delta], np.quantile(imhat_test, 0.025, axis=0), linestyle='--', color=color_jlsmc, zorder=4)\n",
    "        axs[1].plot(time_grid[:-ind_delta], np.quantile(im_test, 0.025, axis=0), linestyle='--', color='black', zorder=2)\n",
    "\n",
    "        axs[1].set_xlabel('$t$')\n",
    "        axs[1].set_ylabel('$\\\\text{IM}_t$')\n",
    "        axs[1].set_xlim(np.min(time_grid[:-ind_delta]), np.max(time_grid[:-ind_delta])+dt)\n",
    "        axs[1].set_title('testing set')\n",
    "\n",
    "        handles, labels = axs[0].get_legend_handles_labels()\n",
    "        fig.legend(handles, labels, loc='lower center', ncol=2, bbox_to_anchor=(0.5, -0.2))\n",
    "        plt.tight_layout()\n",
    "        plt.savefig(f'figures/im_profile/jlsmc_{setting_fit[\"id\"]}_{setting_var[\"id\"]}.png', dpi=300, bbox_inches='tight')\n",
    "\n",
    "\n",
    "df_jlsmc = pd.DataFrame({\n",
    "    'total time': list_total_time_jlsmc,\n",
    "    'mse train': list_mse_train_jlsmc,\n",
    "    'mse test': list_mse_test_jlsmc\n",
    "}, index=list_index_jlsmc)\n",
    "\n",
    "df_jlsmc.to_csv('results/im_jlsmc.csv')\n",
    "'''"
   ]
  },
  {
   "cell_type": "code",
   "execution_count": 11,
   "id": "e6b7835c",
   "metadata": {},
   "outputs": [
    {
     "data": {
      "text/plain": [
       "'\\nlist_total_time_glsmc = []\\nlist_mse_train_glsmc  = []\\nlist_mse_test_glsmc   = []\\nlist_index_glsmc      = []\\nfor setting_fit in setting_fit_glsmc_list:\\n    list_index_glsmc.append(f\\'{setting_fit[\"id\"]}\\')\\n    imhat_list, timehat     = get_initial_margin_glsmc(setting_fit, mtm_paths_train, [mtm_paths_train, mtm_paths_test])\\n    list_total_time_glsmc.append(timehat)\\n    imhat_train, imhat_test = imhat_list[0], imhat_list[1]\\n    list_mse_train_glsmc.append(np.nanmean((imhat_train - im_train)**2))\\n    list_mse_test_glsmc.append(np.nanmean((imhat_test - im_test)**2))\\n\\n    fig, axs = plt.subplots(1, 2, figsize=(12, 4))\\n    axs[0].plot(time_grid[:-ind_delta], np.nanquantile(imhat_train, 0.975, axis=0), linestyle=\\'--\\', color=color_glsmc, label=\\'95% CI - GLSMC\\', zorder=4)\\n    axs[0].plot(time_grid[:-ind_delta], np.quantile(im_train, 0.975, axis=0), linestyle=\\'--\\', color=\\'black\\', label=\\'95% CI - theo\\', zorder=2)\\n    axs[0].plot(time_grid[:-ind_delta], np.nanmean(imhat_train, axis=0), color=color_glsmc, label=\\'DIM - GLSMC\\', zorder=4)\\n    axs[0].plot(time_grid[:-ind_delta], np.mean(im_train, axis=0), color=\\'black\\', label=\\'DIM - theo\\', zorder=2)\\n    axs[0].plot(time_grid[:-ind_delta], np.nanquantile(imhat_train, 0.025, axis=0), linestyle=\\'--\\', color=color_glsmc, zorder=4)\\n    axs[0].plot(time_grid[:-ind_delta], np.quantile(im_train, 0.025, axis=0), linestyle=\\'--\\', color=\\'black\\', zorder=2)\\n\\n    axs[0].set_xlabel(\\'$t$\\')\\n    axs[0].set_ylabel(\\'$\\\\text{IM}_t$\\')\\n    axs[0].set_xlim(np.min(time_grid[:-ind_delta]), np.max(time_grid[:-ind_delta])+dt)\\n    axs[0].set_title(\\'training set\\')\\n\\n    axs[1].plot(time_grid[:-ind_delta], np.nanquantile(imhat_test, 0.975, axis=0), linestyle=\\'--\\', color=color_glsmc, label=\\'95% CI - GLSMC\\', zorder=4)\\n    axs[1].plot(time_grid[:-ind_delta], np.quantile(im_test, 0.975, axis=0), linestyle=\\'--\\', color=\\'black\\', label=\\'95% CI - theo\\', zorder=2)\\n    axs[1].plot(time_grid[:-ind_delta], np.nanmean(imhat_test, axis=0), color=color_glsmc, label=\\'DIM - GLSMC\\', zorder=4)\\n    axs[1].plot(time_grid[:-ind_delta], np.mean(im_test, axis=0), color=\\'black\\', label=\\'DIM - theo\\', zorder=2)\\n    axs[1].plot(time_grid[:-ind_delta], np.nanquantile(imhat_test, 0.025, axis=0), linestyle=\\'--\\', color=color_glsmc, zorder=4)\\n    axs[1].plot(time_grid[:-ind_delta], np.quantile(im_test, 0.025, axis=0), linestyle=\\'--\\', color=\\'black\\', zorder=2)\\n\\n    axs[1].set_xlabel(\\'$t$\\')\\n    axs[1].set_ylabel(\\'$\\\\text{IM}_t$\\')\\n    axs[1].set_xlim(np.min(time_grid[:-ind_delta]), np.max(time_grid[:-ind_delta])+dt)\\n    axs[1].set_title(\\'testing set\\')\\n\\n    handles, labels = axs[0].get_legend_handles_labels()\\n    fig.legend(handles, labels, loc=\\'lower center\\', ncol=2, bbox_to_anchor=(0.5, -0.2))\\n    plt.tight_layout()\\n    plt.savefig(f\\'figures/im_profile/glsmc_{setting_fit[\"id\"]}.png\\', dpi=300, bbox_inches=\\'tight\\')\\n\\ndf_glsmc = pd.DataFrame({\\n    \\'total time\\': list_total_time_glsmc,\\n    \\'mse train\\': list_mse_train_glsmc,\\n    \\'mse test\\': list_mse_test_glsmc\\n}, index=list_index_glsmc)\\n\\ndf_glsmc.to_csv(\\'results/im_glsmc.csv\\')\\n'"
      ]
     },
     "execution_count": 11,
     "metadata": {},
     "output_type": "execute_result"
    }
   ],
   "source": [
    "'''\n",
    "list_total_time_glsmc = []\n",
    "list_mse_train_glsmc  = []\n",
    "list_mse_test_glsmc   = []\n",
    "list_index_glsmc      = []\n",
    "for setting_fit in setting_fit_glsmc_list:\n",
    "    list_index_glsmc.append(f'{setting_fit[\"id\"]}')\n",
    "    imhat_list, timehat     = get_initial_margin_glsmc(setting_fit, mtm_paths_train, [mtm_paths_train, mtm_paths_test])\n",
    "    list_total_time_glsmc.append(timehat)\n",
    "    imhat_train, imhat_test = imhat_list[0], imhat_list[1]\n",
    "    list_mse_train_glsmc.append(np.nanmean((imhat_train - im_train)**2))\n",
    "    list_mse_test_glsmc.append(np.nanmean((imhat_test - im_test)**2))\n",
    "\n",
    "    fig, axs = plt.subplots(1, 2, figsize=(12, 4))\n",
    "    axs[0].plot(time_grid[:-ind_delta], np.nanquantile(imhat_train, 0.975, axis=0), linestyle='--', color=color_glsmc, label='95% CI - GLSMC', zorder=4)\n",
    "    axs[0].plot(time_grid[:-ind_delta], np.quantile(im_train, 0.975, axis=0), linestyle='--', color='black', label='95% CI - theo', zorder=2)\n",
    "    axs[0].plot(time_grid[:-ind_delta], np.nanmean(imhat_train, axis=0), color=color_glsmc, label='DIM - GLSMC', zorder=4)\n",
    "    axs[0].plot(time_grid[:-ind_delta], np.mean(im_train, axis=0), color='black', label='DIM - theo', zorder=2)\n",
    "    axs[0].plot(time_grid[:-ind_delta], np.nanquantile(imhat_train, 0.025, axis=0), linestyle='--', color=color_glsmc, zorder=4)\n",
    "    axs[0].plot(time_grid[:-ind_delta], np.quantile(im_train, 0.025, axis=0), linestyle='--', color='black', zorder=2)\n",
    "\n",
    "    axs[0].set_xlabel('$t$')\n",
    "    axs[0].set_ylabel('$\\\\text{IM}_t$')\n",
    "    axs[0].set_xlim(np.min(time_grid[:-ind_delta]), np.max(time_grid[:-ind_delta])+dt)\n",
    "    axs[0].set_title('training set')\n",
    "\n",
    "    axs[1].plot(time_grid[:-ind_delta], np.nanquantile(imhat_test, 0.975, axis=0), linestyle='--', color=color_glsmc, label='95% CI - GLSMC', zorder=4)\n",
    "    axs[1].plot(time_grid[:-ind_delta], np.quantile(im_test, 0.975, axis=0), linestyle='--', color='black', label='95% CI - theo', zorder=2)\n",
    "    axs[1].plot(time_grid[:-ind_delta], np.nanmean(imhat_test, axis=0), color=color_glsmc, label='DIM - GLSMC', zorder=4)\n",
    "    axs[1].plot(time_grid[:-ind_delta], np.mean(im_test, axis=0), color='black', label='DIM - theo', zorder=2)\n",
    "    axs[1].plot(time_grid[:-ind_delta], np.nanquantile(imhat_test, 0.025, axis=0), linestyle='--', color=color_glsmc, zorder=4)\n",
    "    axs[1].plot(time_grid[:-ind_delta], np.quantile(im_test, 0.025, axis=0), linestyle='--', color='black', zorder=2)\n",
    "\n",
    "    axs[1].set_xlabel('$t$')\n",
    "    axs[1].set_ylabel('$\\\\text{IM}_t$')\n",
    "    axs[1].set_xlim(np.min(time_grid[:-ind_delta]), np.max(time_grid[:-ind_delta])+dt)\n",
    "    axs[1].set_title('testing set')\n",
    "\n",
    "    handles, labels = axs[0].get_legend_handles_labels()\n",
    "    fig.legend(handles, labels, loc='lower center', ncol=2, bbox_to_anchor=(0.5, -0.2))\n",
    "    plt.tight_layout()\n",
    "    plt.savefig(f'figures/im_profile/glsmc_{setting_fit[\"id\"]}.png', dpi=300, bbox_inches='tight')\n",
    "\n",
    "df_glsmc = pd.DataFrame({\n",
    "    'total time': list_total_time_glsmc,\n",
    "    'mse train': list_mse_train_glsmc,\n",
    "    'mse test': list_mse_test_glsmc\n",
    "}, index=list_index_glsmc)\n",
    "\n",
    "df_glsmc.to_csv('results/im_glsmc.csv')\n",
    "'''"
   ]
  }
 ],
 "metadata": {
  "kernelspec": {
   "display_name": ".venv",
   "language": "python",
   "name": "python3"
  },
  "language_info": {
   "codemirror_mode": {
    "name": "ipython",
    "version": 3
   },
   "file_extension": ".py",
   "mimetype": "text/x-python",
   "name": "python",
   "nbconvert_exporter": "python",
   "pygments_lexer": "ipython3",
   "version": "3.12.4"
  }
 },
 "nbformat": 4,
 "nbformat_minor": 5
}
